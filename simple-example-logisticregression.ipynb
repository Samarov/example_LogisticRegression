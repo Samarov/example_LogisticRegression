{
 "cells": [
  {
   "cell_type": "code",
   "execution_count": 1,
   "id": "53712d80",
   "metadata": {
    "execution": {
     "iopub.execute_input": "2022-06-02T21:55:47.905018Z",
     "iopub.status.busy": "2022-06-02T21:55:47.904558Z",
     "iopub.status.idle": "2022-06-02T21:55:49.163916Z",
     "shell.execute_reply": "2022-06-02T21:55:49.162922Z"
    },
    "papermill": {
     "duration": 1.271472,
     "end_time": "2022-06-02T21:55:49.166371",
     "exception": false,
     "start_time": "2022-06-02T21:55:47.894899",
     "status": "completed"
    },
    "tags": []
   },
   "outputs": [],
   "source": [
    "import pandas as pd\n",
    "import numpy as np\n",
    "from sklearn.metrics import roc_auc_score\n",
    "from sklearn.linear_model import LogisticRegression\n",
    "pd.set_option('display.max_rows', 10)"
   ]
  },
  {
   "cell_type": "markdown",
   "id": "1b8559ac",
   "metadata": {
    "papermill": {
     "duration": 0.004189,
     "end_time": "2022-06-02T21:55:49.175293",
     "exception": false,
     "start_time": "2022-06-02T21:55:49.171104",
     "status": "completed"
    },
    "tags": []
   },
   "source": [
    "Для примера, возьмем маленький DataFrame из 6 строк, где поля col_1 и col_2 некий набор данных в которых мы хотим найти пары (45, 4), (45, 5), (56, 4) и (56, 5). Целевая переменная target. "
   ]
  },
  {
   "cell_type": "code",
   "execution_count": 2,
   "id": "e5746d11",
   "metadata": {
    "execution": {
     "iopub.execute_input": "2022-06-02T21:55:49.186027Z",
     "iopub.status.busy": "2022-06-02T21:55:49.185597Z",
     "iopub.status.idle": "2022-06-02T21:55:49.193974Z",
     "shell.execute_reply": "2022-06-02T21:55:49.192789Z"
    },
    "papermill": {
     "duration": 0.016262,
     "end_time": "2022-06-02T21:55:49.196047",
     "exception": false,
     "start_time": "2022-06-02T21:55:49.179785",
     "status": "completed"
    },
    "tags": []
   },
   "outputs": [],
   "source": [
    "df = pd.DataFrame({'col_1':[45, 56, 67, 78, 45, 56],\n",
    "                   'col_2':[4, 9, 6, 7, 5, 4],\n",
    "                   'target':[1, 0, 0, 0, 1, 1]})"
   ]
  },
  {
   "cell_type": "code",
   "execution_count": 3,
   "id": "b3ac3b29",
   "metadata": {
    "execution": {
     "iopub.execute_input": "2022-06-02T21:55:49.206392Z",
     "iopub.status.busy": "2022-06-02T21:55:49.205975Z",
     "iopub.status.idle": "2022-06-02T21:55:49.223388Z",
     "shell.execute_reply": "2022-06-02T21:55:49.222744Z"
    },
    "papermill": {
     "duration": 0.025141,
     "end_time": "2022-06-02T21:55:49.225581",
     "exception": false,
     "start_time": "2022-06-02T21:55:49.200440",
     "status": "completed"
    },
    "tags": []
   },
   "outputs": [
    {
     "data": {
      "text/html": [
       "<div>\n",
       "<style scoped>\n",
       "    .dataframe tbody tr th:only-of-type {\n",
       "        vertical-align: middle;\n",
       "    }\n",
       "\n",
       "    .dataframe tbody tr th {\n",
       "        vertical-align: top;\n",
       "    }\n",
       "\n",
       "    .dataframe thead th {\n",
       "        text-align: right;\n",
       "    }\n",
       "</style>\n",
       "<table border=\"1\" class=\"dataframe\">\n",
       "  <thead>\n",
       "    <tr style=\"text-align: right;\">\n",
       "      <th></th>\n",
       "      <th>col_1</th>\n",
       "      <th>col_2</th>\n",
       "      <th>target</th>\n",
       "    </tr>\n",
       "  </thead>\n",
       "  <tbody>\n",
       "    <tr>\n",
       "      <th>0</th>\n",
       "      <td>45</td>\n",
       "      <td>4</td>\n",
       "      <td>1</td>\n",
       "    </tr>\n",
       "    <tr>\n",
       "      <th>1</th>\n",
       "      <td>56</td>\n",
       "      <td>9</td>\n",
       "      <td>0</td>\n",
       "    </tr>\n",
       "    <tr>\n",
       "      <th>2</th>\n",
       "      <td>67</td>\n",
       "      <td>6</td>\n",
       "      <td>0</td>\n",
       "    </tr>\n",
       "    <tr>\n",
       "      <th>3</th>\n",
       "      <td>78</td>\n",
       "      <td>7</td>\n",
       "      <td>0</td>\n",
       "    </tr>\n",
       "    <tr>\n",
       "      <th>4</th>\n",
       "      <td>45</td>\n",
       "      <td>5</td>\n",
       "      <td>1</td>\n",
       "    </tr>\n",
       "    <tr>\n",
       "      <th>5</th>\n",
       "      <td>56</td>\n",
       "      <td>4</td>\n",
       "      <td>1</td>\n",
       "    </tr>\n",
       "  </tbody>\n",
       "</table>\n",
       "</div>"
      ],
      "text/plain": [
       "   col_1  col_2  target\n",
       "0     45      4       1\n",
       "1     56      9       0\n",
       "2     67      6       0\n",
       "3     78      7       0\n",
       "4     45      5       1\n",
       "5     56      4       1"
      ]
     },
     "execution_count": 3,
     "metadata": {},
     "output_type": "execute_result"
    }
   ],
   "source": [
    "df.head(10)"
   ]
  },
  {
   "cell_type": "code",
   "execution_count": 4,
   "id": "132df152",
   "metadata": {
    "execution": {
     "iopub.execute_input": "2022-06-02T21:55:49.236777Z",
     "iopub.status.busy": "2022-06-02T21:55:49.235702Z",
     "iopub.status.idle": "2022-06-02T21:55:49.248706Z",
     "shell.execute_reply": "2022-06-02T21:55:49.247916Z"
    },
    "papermill": {
     "duration": 0.020861,
     "end_time": "2022-06-02T21:55:49.250964",
     "exception": false,
     "start_time": "2022-06-02T21:55:49.230103",
     "status": "completed"
    },
    "tags": []
   },
   "outputs": [],
   "source": [
    "features = ['col_1','col_2']\n",
    "X = df[features].values\n",
    "y = df.target.values"
   ]
  },
  {
   "cell_type": "code",
   "execution_count": 5,
   "id": "ebb97b07",
   "metadata": {
    "execution": {
     "iopub.execute_input": "2022-06-02T21:55:49.261937Z",
     "iopub.status.busy": "2022-06-02T21:55:49.261250Z",
     "iopub.status.idle": "2022-06-02T21:55:49.265705Z",
     "shell.execute_reply": "2022-06-02T21:55:49.265047Z"
    },
    "papermill": {
     "duration": 0.012002,
     "end_time": "2022-06-02T21:55:49.267512",
     "exception": false,
     "start_time": "2022-06-02T21:55:49.255510",
     "status": "completed"
    },
    "tags": []
   },
   "outputs": [],
   "source": [
    "logit = LogisticRegression(C=1, random_state=42, solver='liblinear')"
   ]
  },
  {
   "cell_type": "code",
   "execution_count": 6,
   "id": "8668293f",
   "metadata": {
    "execution": {
     "iopub.execute_input": "2022-06-02T21:55:49.278342Z",
     "iopub.status.busy": "2022-06-02T21:55:49.277553Z",
     "iopub.status.idle": "2022-06-02T21:55:49.286806Z",
     "shell.execute_reply": "2022-06-02T21:55:49.285889Z"
    },
    "papermill": {
     "duration": 0.016596,
     "end_time": "2022-06-02T21:55:49.288722",
     "exception": false,
     "start_time": "2022-06-02T21:55:49.272126",
     "status": "completed"
    },
    "tags": []
   },
   "outputs": [
    {
     "data": {
      "text/plain": [
       "LogisticRegression(C=1, random_state=42, solver='liblinear')"
      ]
     },
     "execution_count": 6,
     "metadata": {},
     "output_type": "execute_result"
    }
   ],
   "source": [
    "logit.fit(X, y)"
   ]
  },
  {
   "cell_type": "code",
   "execution_count": 7,
   "id": "35f54f7f",
   "metadata": {
    "execution": {
     "iopub.execute_input": "2022-06-02T21:55:49.299900Z",
     "iopub.status.busy": "2022-06-02T21:55:49.298847Z",
     "iopub.status.idle": "2022-06-02T21:55:49.305805Z",
     "shell.execute_reply": "2022-06-02T21:55:49.304948Z"
    },
    "papermill": {
     "duration": 0.014411,
     "end_time": "2022-06-02T21:55:49.307717",
     "exception": false,
     "start_time": "2022-06-02T21:55:49.293306",
     "status": "completed"
    },
    "tags": []
   },
   "outputs": [],
   "source": [
    "train_pred = logit.predict_proba(X)[:, 1]"
   ]
  },
  {
   "cell_type": "code",
   "execution_count": 8,
   "id": "2870c327",
   "metadata": {
    "execution": {
     "iopub.execute_input": "2022-06-02T21:55:49.318928Z",
     "iopub.status.busy": "2022-06-02T21:55:49.318273Z",
     "iopub.status.idle": "2022-06-02T21:55:49.327965Z",
     "shell.execute_reply": "2022-06-02T21:55:49.326981Z"
    },
    "papermill": {
     "duration": 0.017629,
     "end_time": "2022-06-02T21:55:49.329982",
     "exception": false,
     "start_time": "2022-06-02T21:55:49.312353",
     "status": "completed"
    },
    "tags": []
   },
   "outputs": [
    {
     "data": {
      "text/plain": [
       "0.7777777777777778"
      ]
     },
     "execution_count": 8,
     "metadata": {},
     "output_type": "execute_result"
    }
   ],
   "source": [
    "roc_auc_score(y, train_pred)"
   ]
  },
  {
   "cell_type": "markdown",
   "id": "82eeeddb",
   "metadata": {
    "papermill": {
     "duration": 0.004581,
     "end_time": "2022-06-02T21:55:49.339358",
     "exception": false,
     "start_time": "2022-06-02T21:55:49.334777",
     "status": "completed"
    },
    "tags": []
   },
   "source": [
    "Точность нашей модели получилась не маленькая, давайте проверим:"
   ]
  },
  {
   "cell_type": "code",
   "execution_count": 9,
   "id": "24dfc192",
   "metadata": {
    "execution": {
     "iopub.execute_input": "2022-06-02T21:55:49.350972Z",
     "iopub.status.busy": "2022-06-02T21:55:49.350304Z",
     "iopub.status.idle": "2022-06-02T21:55:49.361082Z",
     "shell.execute_reply": "2022-06-02T21:55:49.360190Z"
    },
    "papermill": {
     "duration": 0.018734,
     "end_time": "2022-06-02T21:55:49.362972",
     "exception": false,
     "start_time": "2022-06-02T21:55:49.344238",
     "status": "completed"
    },
    "tags": []
   },
   "outputs": [
    {
     "data": {
      "text/html": [
       "<div>\n",
       "<style scoped>\n",
       "    .dataframe tbody tr th:only-of-type {\n",
       "        vertical-align: middle;\n",
       "    }\n",
       "\n",
       "    .dataframe tbody tr th {\n",
       "        vertical-align: top;\n",
       "    }\n",
       "\n",
       "    .dataframe thead th {\n",
       "        text-align: right;\n",
       "    }\n",
       "</style>\n",
       "<table border=\"1\" class=\"dataframe\">\n",
       "  <thead>\n",
       "    <tr style=\"text-align: right;\">\n",
       "      <th></th>\n",
       "      <th>col_1</th>\n",
       "      <th>col_2</th>\n",
       "      <th>target</th>\n",
       "      <th>pred</th>\n",
       "    </tr>\n",
       "  </thead>\n",
       "  <tbody>\n",
       "    <tr>\n",
       "      <th>0</th>\n",
       "      <td>45</td>\n",
       "      <td>4</td>\n",
       "      <td>1</td>\n",
       "      <td>0.511164</td>\n",
       "    </tr>\n",
       "    <tr>\n",
       "      <th>1</th>\n",
       "      <td>56</td>\n",
       "      <td>9</td>\n",
       "      <td>0</td>\n",
       "      <td>0.143420</td>\n",
       "    </tr>\n",
       "    <tr>\n",
       "      <th>2</th>\n",
       "      <td>67</td>\n",
       "      <td>6</td>\n",
       "      <td>0</td>\n",
       "      <td>0.454502</td>\n",
       "    </tr>\n",
       "    <tr>\n",
       "      <th>3</th>\n",
       "      <td>78</td>\n",
       "      <td>7</td>\n",
       "      <td>0</td>\n",
       "      <td>0.426517</td>\n",
       "    </tr>\n",
       "    <tr>\n",
       "      <th>4</th>\n",
       "      <td>45</td>\n",
       "      <td>5</td>\n",
       "      <td>1</td>\n",
       "      <td>0.404945</td>\n",
       "    </tr>\n",
       "    <tr>\n",
       "      <th>5</th>\n",
       "      <td>56</td>\n",
       "      <td>4</td>\n",
       "      <td>1</td>\n",
       "      <td>0.589197</td>\n",
       "    </tr>\n",
       "  </tbody>\n",
       "</table>\n",
       "</div>"
      ],
      "text/plain": [
       "   col_1  col_2  target      pred\n",
       "0     45      4       1  0.511164\n",
       "1     56      9       0  0.143420\n",
       "2     67      6       0  0.454502\n",
       "3     78      7       0  0.426517\n",
       "4     45      5       1  0.404945\n",
       "5     56      4       1  0.589197"
      ]
     },
     "execution_count": 9,
     "metadata": {},
     "output_type": "execute_result"
    }
   ],
   "source": [
    "df['pred'] = train_pred\n",
    "df.head(10)"
   ]
  },
  {
   "cell_type": "code",
   "execution_count": 10,
   "id": "4a1ff613",
   "metadata": {
    "execution": {
     "iopub.execute_input": "2022-06-02T21:55:49.374675Z",
     "iopub.status.busy": "2022-06-02T21:55:49.373949Z",
     "iopub.status.idle": "2022-06-02T21:55:49.380853Z",
     "shell.execute_reply": "2022-06-02T21:55:49.380240Z"
    },
    "papermill": {
     "duration": 0.014627,
     "end_time": "2022-06-02T21:55:49.382585",
     "exception": false,
     "start_time": "2022-06-02T21:55:49.367958",
     "status": "completed"
    },
    "tags": []
   },
   "outputs": [
    {
     "data": {
      "text/plain": [
       "array([0.838801  , 0.48277738, 0.5891966 ])"
      ]
     },
     "execution_count": 10,
     "metadata": {},
     "output_type": "execute_result"
    }
   ],
   "source": [
    "logit.predict_proba([[56, 1],[56, 5],[56, 4]])[:, 1]"
   ]
  },
  {
   "cell_type": "markdown",
   "id": "d441d695",
   "metadata": {
    "papermill": {
     "duration": 0.004615,
     "end_time": "2022-06-02T21:55:49.392164",
     "exception": false,
     "start_time": "2022-06-02T21:55:49.387549",
     "status": "completed"
    },
    "tags": []
   },
   "source": [
    "Наша модель что-то предсказывает, но совсем не то, что нам нужно.\n",
    "Разложим наши данные на бинарные признаки (закодируем наши пары) и заново обучим нашу модель."
   ]
  },
  {
   "cell_type": "code",
   "execution_count": 11,
   "id": "e7ae9742",
   "metadata": {
    "execution": {
     "iopub.execute_input": "2022-06-02T21:55:49.403789Z",
     "iopub.status.busy": "2022-06-02T21:55:49.403090Z",
     "iopub.status.idle": "2022-06-02T21:55:49.421176Z",
     "shell.execute_reply": "2022-06-02T21:55:49.420201Z"
    },
    "papermill": {
     "duration": 0.026065,
     "end_time": "2022-06-02T21:55:49.423095",
     "exception": false,
     "start_time": "2022-06-02T21:55:49.397030",
     "status": "completed"
    },
    "tags": []
   },
   "outputs": [
    {
     "data": {
      "text/html": [
       "<div>\n",
       "<style scoped>\n",
       "    .dataframe tbody tr th:only-of-type {\n",
       "        vertical-align: middle;\n",
       "    }\n",
       "\n",
       "    .dataframe tbody tr th {\n",
       "        vertical-align: top;\n",
       "    }\n",
       "\n",
       "    .dataframe thead th {\n",
       "        text-align: right;\n",
       "    }\n",
       "</style>\n",
       "<table border=\"1\" class=\"dataframe\">\n",
       "  <thead>\n",
       "    <tr style=\"text-align: right;\">\n",
       "      <th></th>\n",
       "      <th>target</th>\n",
       "      <th>pred</th>\n",
       "      <th>col_1_45</th>\n",
       "      <th>col_1_56</th>\n",
       "      <th>col_1_67</th>\n",
       "      <th>col_1_78</th>\n",
       "      <th>col_2_4</th>\n",
       "      <th>col_2_5</th>\n",
       "      <th>col_2_6</th>\n",
       "      <th>col_2_7</th>\n",
       "      <th>col_2_9</th>\n",
       "    </tr>\n",
       "  </thead>\n",
       "  <tbody>\n",
       "    <tr>\n",
       "      <th>0</th>\n",
       "      <td>1</td>\n",
       "      <td>0.511164</td>\n",
       "      <td>1</td>\n",
       "      <td>0</td>\n",
       "      <td>0</td>\n",
       "      <td>0</td>\n",
       "      <td>1</td>\n",
       "      <td>0</td>\n",
       "      <td>0</td>\n",
       "      <td>0</td>\n",
       "      <td>0</td>\n",
       "    </tr>\n",
       "    <tr>\n",
       "      <th>1</th>\n",
       "      <td>0</td>\n",
       "      <td>0.143420</td>\n",
       "      <td>0</td>\n",
       "      <td>1</td>\n",
       "      <td>0</td>\n",
       "      <td>0</td>\n",
       "      <td>0</td>\n",
       "      <td>0</td>\n",
       "      <td>0</td>\n",
       "      <td>0</td>\n",
       "      <td>1</td>\n",
       "    </tr>\n",
       "    <tr>\n",
       "      <th>2</th>\n",
       "      <td>0</td>\n",
       "      <td>0.454502</td>\n",
       "      <td>0</td>\n",
       "      <td>0</td>\n",
       "      <td>1</td>\n",
       "      <td>0</td>\n",
       "      <td>0</td>\n",
       "      <td>0</td>\n",
       "      <td>1</td>\n",
       "      <td>0</td>\n",
       "      <td>0</td>\n",
       "    </tr>\n",
       "    <tr>\n",
       "      <th>3</th>\n",
       "      <td>0</td>\n",
       "      <td>0.426517</td>\n",
       "      <td>0</td>\n",
       "      <td>0</td>\n",
       "      <td>0</td>\n",
       "      <td>1</td>\n",
       "      <td>0</td>\n",
       "      <td>0</td>\n",
       "      <td>0</td>\n",
       "      <td>1</td>\n",
       "      <td>0</td>\n",
       "    </tr>\n",
       "    <tr>\n",
       "      <th>4</th>\n",
       "      <td>1</td>\n",
       "      <td>0.404945</td>\n",
       "      <td>1</td>\n",
       "      <td>0</td>\n",
       "      <td>0</td>\n",
       "      <td>0</td>\n",
       "      <td>0</td>\n",
       "      <td>1</td>\n",
       "      <td>0</td>\n",
       "      <td>0</td>\n",
       "      <td>0</td>\n",
       "    </tr>\n",
       "    <tr>\n",
       "      <th>5</th>\n",
       "      <td>1</td>\n",
       "      <td>0.589197</td>\n",
       "      <td>0</td>\n",
       "      <td>1</td>\n",
       "      <td>0</td>\n",
       "      <td>0</td>\n",
       "      <td>1</td>\n",
       "      <td>0</td>\n",
       "      <td>0</td>\n",
       "      <td>0</td>\n",
       "      <td>0</td>\n",
       "    </tr>\n",
       "  </tbody>\n",
       "</table>\n",
       "</div>"
      ],
      "text/plain": [
       "   target      pred  col_1_45  col_1_56  col_1_67  col_1_78  col_2_4  col_2_5  \\\n",
       "0       1  0.511164         1         0         0         0        1        0   \n",
       "1       0  0.143420         0         1         0         0        0        0   \n",
       "2       0  0.454502         0         0         1         0        0        0   \n",
       "3       0  0.426517         0         0         0         1        0        0   \n",
       "4       1  0.404945         1         0         0         0        0        1   \n",
       "5       1  0.589197         0         1         0         0        1        0   \n",
       "\n",
       "   col_2_6  col_2_7  col_2_9  \n",
       "0        0        0        0  \n",
       "1        0        0        1  \n",
       "2        1        0        0  \n",
       "3        0        1        0  \n",
       "4        0        0        0  \n",
       "5        0        0        0  "
      ]
     },
     "execution_count": 11,
     "metadata": {},
     "output_type": "execute_result"
    }
   ],
   "source": [
    "df = pd.get_dummies(df, columns=['col_1', 'col_2'])\n",
    "df.head(10)"
   ]
  },
  {
   "cell_type": "code",
   "execution_count": 12,
   "id": "a4804789",
   "metadata": {
    "execution": {
     "iopub.execute_input": "2022-06-02T21:55:49.435113Z",
     "iopub.status.busy": "2022-06-02T21:55:49.434462Z",
     "iopub.status.idle": "2022-06-02T21:55:49.439784Z",
     "shell.execute_reply": "2022-06-02T21:55:49.439186Z"
    },
    "papermill": {
     "duration": 0.01339,
     "end_time": "2022-06-02T21:55:49.441553",
     "exception": false,
     "start_time": "2022-06-02T21:55:49.428163",
     "status": "completed"
    },
    "tags": []
   },
   "outputs": [],
   "source": [
    "X = df.drop(columns=['target', 'pred']).values"
   ]
  },
  {
   "cell_type": "code",
   "execution_count": 13,
   "id": "80f192f2",
   "metadata": {
    "execution": {
     "iopub.execute_input": "2022-06-02T21:55:49.453472Z",
     "iopub.status.busy": "2022-06-02T21:55:49.452790Z",
     "iopub.status.idle": "2022-06-02T21:55:49.461411Z",
     "shell.execute_reply": "2022-06-02T21:55:49.460513Z"
    },
    "papermill": {
     "duration": 0.016768,
     "end_time": "2022-06-02T21:55:49.463306",
     "exception": false,
     "start_time": "2022-06-02T21:55:49.446538",
     "status": "completed"
    },
    "tags": []
   },
   "outputs": [
    {
     "data": {
      "text/plain": [
       "1.0"
      ]
     },
     "execution_count": 13,
     "metadata": {},
     "output_type": "execute_result"
    }
   ],
   "source": [
    "logit.fit(X, y)\n",
    "train_pred = logit.predict_proba(X)[:, 1]\n",
    "roc_auc_score(y, train_pred)"
   ]
  },
  {
   "cell_type": "markdown",
   "id": "217edd13",
   "metadata": {
    "papermill": {
     "duration": 0.004846,
     "end_time": "2022-06-02T21:55:49.473274",
     "exception": false,
     "start_time": "2022-06-02T21:55:49.468428",
     "status": "completed"
    },
    "tags": []
   },
   "source": [
    "Итак, точность нашей модели по метрике roc-auc стала максимальной, проверим:"
   ]
  },
  {
   "cell_type": "code",
   "execution_count": 14,
   "id": "a48d8b27",
   "metadata": {
    "execution": {
     "iopub.execute_input": "2022-06-02T21:55:49.485371Z",
     "iopub.status.busy": "2022-06-02T21:55:49.484727Z",
     "iopub.status.idle": "2022-06-02T21:55:49.497307Z",
     "shell.execute_reply": "2022-06-02T21:55:49.496291Z"
    },
    "papermill": {
     "duration": 0.020813,
     "end_time": "2022-06-02T21:55:49.499231",
     "exception": false,
     "start_time": "2022-06-02T21:55:49.478418",
     "status": "completed"
    },
    "tags": []
   },
   "outputs": [
    {
     "data": {
      "text/html": [
       "<div>\n",
       "<style scoped>\n",
       "    .dataframe tbody tr th:only-of-type {\n",
       "        vertical-align: middle;\n",
       "    }\n",
       "\n",
       "    .dataframe tbody tr th {\n",
       "        vertical-align: top;\n",
       "    }\n",
       "\n",
       "    .dataframe thead th {\n",
       "        text-align: right;\n",
       "    }\n",
       "</style>\n",
       "<table border=\"1\" class=\"dataframe\">\n",
       "  <thead>\n",
       "    <tr style=\"text-align: right;\">\n",
       "      <th></th>\n",
       "      <th>target</th>\n",
       "      <th>pred</th>\n",
       "      <th>col_1_45</th>\n",
       "      <th>col_1_56</th>\n",
       "      <th>col_1_67</th>\n",
       "      <th>col_1_78</th>\n",
       "      <th>col_2_4</th>\n",
       "      <th>col_2_5</th>\n",
       "      <th>col_2_6</th>\n",
       "      <th>col_2_7</th>\n",
       "      <th>col_2_9</th>\n",
       "    </tr>\n",
       "  </thead>\n",
       "  <tbody>\n",
       "    <tr>\n",
       "      <th>0</th>\n",
       "      <td>1</td>\n",
       "      <td>0.749328</td>\n",
       "      <td>1</td>\n",
       "      <td>0</td>\n",
       "      <td>0</td>\n",
       "      <td>0</td>\n",
       "      <td>1</td>\n",
       "      <td>0</td>\n",
       "      <td>0</td>\n",
       "      <td>0</td>\n",
       "      <td>0</td>\n",
       "    </tr>\n",
       "    <tr>\n",
       "      <th>1</th>\n",
       "      <td>0</td>\n",
       "      <td>0.381602</td>\n",
       "      <td>0</td>\n",
       "      <td>1</td>\n",
       "      <td>0</td>\n",
       "      <td>0</td>\n",
       "      <td>0</td>\n",
       "      <td>0</td>\n",
       "      <td>0</td>\n",
       "      <td>0</td>\n",
       "      <td>1</td>\n",
       "    </tr>\n",
       "    <tr>\n",
       "      <th>2</th>\n",
       "      <td>0</td>\n",
       "      <td>0.323312</td>\n",
       "      <td>0</td>\n",
       "      <td>0</td>\n",
       "      <td>1</td>\n",
       "      <td>0</td>\n",
       "      <td>0</td>\n",
       "      <td>0</td>\n",
       "      <td>1</td>\n",
       "      <td>0</td>\n",
       "      <td>0</td>\n",
       "    </tr>\n",
       "    <tr>\n",
       "      <th>3</th>\n",
       "      <td>0</td>\n",
       "      <td>0.323312</td>\n",
       "      <td>0</td>\n",
       "      <td>0</td>\n",
       "      <td>0</td>\n",
       "      <td>1</td>\n",
       "      <td>0</td>\n",
       "      <td>0</td>\n",
       "      <td>0</td>\n",
       "      <td>1</td>\n",
       "      <td>0</td>\n",
       "    </tr>\n",
       "    <tr>\n",
       "      <th>4</th>\n",
       "      <td>1</td>\n",
       "      <td>0.686790</td>\n",
       "      <td>1</td>\n",
       "      <td>0</td>\n",
       "      <td>0</td>\n",
       "      <td>0</td>\n",
       "      <td>0</td>\n",
       "      <td>1</td>\n",
       "      <td>0</td>\n",
       "      <td>0</td>\n",
       "      <td>0</td>\n",
       "    </tr>\n",
       "    <tr>\n",
       "      <th>5</th>\n",
       "      <td>1</td>\n",
       "      <td>0.627597</td>\n",
       "      <td>0</td>\n",
       "      <td>1</td>\n",
       "      <td>0</td>\n",
       "      <td>0</td>\n",
       "      <td>1</td>\n",
       "      <td>0</td>\n",
       "      <td>0</td>\n",
       "      <td>0</td>\n",
       "      <td>0</td>\n",
       "    </tr>\n",
       "  </tbody>\n",
       "</table>\n",
       "</div>"
      ],
      "text/plain": [
       "   target      pred  col_1_45  col_1_56  col_1_67  col_1_78  col_2_4  col_2_5  \\\n",
       "0       1  0.749328         1         0         0         0        1        0   \n",
       "1       0  0.381602         0         1         0         0        0        0   \n",
       "2       0  0.323312         0         0         1         0        0        0   \n",
       "3       0  0.323312         0         0         0         1        0        0   \n",
       "4       1  0.686790         1         0         0         0        0        1   \n",
       "5       1  0.627597         0         1         0         0        1        0   \n",
       "\n",
       "   col_2_6  col_2_7  col_2_9  \n",
       "0        0        0        0  \n",
       "1        0        0        1  \n",
       "2        1        0        0  \n",
       "3        0        1        0  \n",
       "4        0        0        0  \n",
       "5        0        0        0  "
      ]
     },
     "execution_count": 14,
     "metadata": {},
     "output_type": "execute_result"
    }
   ],
   "source": [
    "df['pred'] = train_pred\n",
    "df.head(10)"
   ]
  },
  {
   "cell_type": "markdown",
   "id": "89648cd2",
   "metadata": {
    "execution": {
     "iopub.execute_input": "2022-06-02T21:42:45.133964Z",
     "iopub.status.busy": "2022-06-02T21:42:45.133584Z",
     "iopub.status.idle": "2022-06-02T21:42:45.140328Z",
     "shell.execute_reply": "2022-06-02T21:42:45.138997Z",
     "shell.execute_reply.started": "2022-06-02T21:42:45.133934Z"
    },
    "papermill": {
     "duration": 0.005076,
     "end_time": "2022-06-02T21:55:49.509624",
     "exception": false,
     "start_time": "2022-06-02T21:55:49.504548",
     "status": "completed"
    },
    "tags": []
   },
   "source": [
    "Проверим пары (56, 5) и (56, 7)"
   ]
  },
  {
   "cell_type": "code",
   "execution_count": 15,
   "id": "b335f813",
   "metadata": {
    "execution": {
     "iopub.execute_input": "2022-06-02T21:55:49.522209Z",
     "iopub.status.busy": "2022-06-02T21:55:49.521535Z",
     "iopub.status.idle": "2022-06-02T21:55:49.528664Z",
     "shell.execute_reply": "2022-06-02T21:55:49.527984Z"
    },
    "papermill": {
     "duration": 0.01551,
     "end_time": "2022-06-02T21:55:49.530419",
     "exception": false,
     "start_time": "2022-06-02T21:55:49.514909",
     "status": "completed"
    },
    "tags": []
   },
   "outputs": [
    {
     "data": {
      "text/plain": [
       "array([0.5528129 , 0.39544499])"
      ]
     },
     "execution_count": 15,
     "metadata": {},
     "output_type": "execute_result"
    }
   ],
   "source": [
    "logit.predict_proba([[0, 1, 0, 0, 0, 1, 0, 0, 0], [0, 1, 0, 0, 0, 0, 1, 0, 0]])[:, 1]"
   ]
  },
  {
   "cell_type": "markdown",
   "id": "aa3b6b92",
   "metadata": {
    "papermill": {
     "duration": 0.00504,
     "end_time": "2022-06-02T21:55:49.540771",
     "exception": false,
     "start_time": "2022-06-02T21:55:49.535731",
     "status": "completed"
    },
    "tags": []
   },
   "source": [
    "### Интересующая нас пара (56, 5) в обучении не участвовала, но наша модель смогла ее определить и дать вероятность больше 50% "
   ]
  },
  {
   "cell_type": "code",
   "execution_count": null,
   "id": "82423f73",
   "metadata": {},
   "outputs": [],
   "source": []
  }
 ],
 "metadata": {
  "kernelspec": {
   "display_name": "Python 3 (ipykernel)",
   "language": "python",
   "name": "python3"
  },
  "language_info": {
   "codemirror_mode": {
    "name": "ipython",
    "version": 3
   },
   "file_extension": ".py",
   "mimetype": "text/x-python",
   "name": "python",
   "nbconvert_exporter": "python",
   "pygments_lexer": "ipython3",
   "version": "3.9.2"
  },
  "papermill": {
   "default_parameters": {},
   "duration": 11.021732,
   "end_time": "2022-06-02T21:55:50.266248",
   "environment_variables": {},
   "exception": null,
   "input_path": "__notebook__.ipynb",
   "output_path": "__notebook__.ipynb",
   "parameters": {},
   "start_time": "2022-06-02T21:55:39.244516",
   "version": "2.3.4"
  }
 },
 "nbformat": 4,
 "nbformat_minor": 5
}
